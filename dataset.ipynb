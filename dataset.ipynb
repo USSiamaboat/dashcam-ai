{
 "cells": [
  {
   "metadata": {
    "ExecuteTime": {
     "end_time": "2024-06-15T22:16:26.329808Z",
     "start_time": "2024-06-15T22:16:26.316645Z"
    }
   },
   "cell_type": "code",
   "source": [
    "import numpy as np\n",
    "import matplotlib.pyplot as plt\n",
    "from PIL import Image\n",
    "import tensorflow as tf\n",
    "import os"
   ],
   "id": "4559ae9a330ed3e3",
   "outputs": [],
   "execution_count": 2
  },
  {
   "metadata": {},
   "cell_type": "markdown",
   "source": [
    "## Training Dataset\n",
    "- 1000 samples\n",
    "    - 500 driving\n",
    "        - 160/160/180 easy/med/hard\n",
    "        - 250/250 left/right\n",
    "    - 500 crashing\n",
    "        - 160/160/180 easy/med/hard\n",
    "- Seed: duwojdfkj"
   ],
   "id": "1ac36257e35bacac"
  },
  {
   "metadata": {
    "ExecuteTime": {
     "end_time": "2024-06-11T19:00:54.970857Z",
     "start_time": "2024-06-11T19:00:54.905354Z"
    }
   },
   "cell_type": "code",
   "source": [
    "def merge_left_right(left_path, right_path, n_samples):\n",
    "    out = []\n",
    "    \n",
    "    left_images = os.listdir(left_path)\n",
    "    right_images = os.listdir(right_path)\n",
    "    \n",
    "    # Step by 2 to select every other frame (increases sample diversity and utilizes more of each recording)\n",
    "    for i in range(0, n_samples*2, 2):\n",
    "        path = left_path if i%4 == 0 else right_path\n",
    "        image_names = left_images if i%4 == 0 else right_images\n",
    "        \n",
    "        image = np.array(Image.open(f\"{path}/{image_names[i]}\"))/255\n",
    "        \n",
    "        out.append(image)\n",
    "    \n",
    "    return out"
   ],
   "id": "fa3bcade2de97dbd",
   "outputs": [],
   "execution_count": 22
  },
  {
   "metadata": {
    "ExecuteTime": {
     "end_time": "2024-06-11T19:01:35.454270Z",
     "start_time": "2024-06-11T19:01:33.257720Z"
    }
   },
   "cell_type": "code",
   "source": [
    "drive_easy = merge_left_right(\"slowroads dataset/drive easy left\", \"slowroads dataset/drive easy right\", 160)\n",
    "drive_med = merge_left_right(\"slowroads dataset/drive med left\", \"slowroads dataset/drive med right\", 160)\n",
    "drive_hard = merge_left_right(\"slowroads dataset/drive hard left\", \"slowroads dataset/drive hard right\", 180)"
   ],
   "id": "14a6e6bd937f121f",
   "outputs": [],
   "execution_count": 23
  },
  {
   "metadata": {
    "ExecuteTime": {
     "end_time": "2024-06-11T20:52:30.381495Z",
     "start_time": "2024-06-11T20:52:30.358145Z"
    }
   },
   "cell_type": "code",
   "source": [
    "def select_random(path, n_samples):\n",
    "    out = []\n",
    "    \n",
    "    image_names = os.listdir(path)\n",
    "    np.random.shuffle(images)\n",
    "    \n",
    "    for image_name in image_names[:n_samples]:\n",
    "        image = np.array(Image.open(f\"{path}/{image_name}\"))/255\n",
    "        \n",
    "        out.append(image)\n",
    "    \n",
    "    return out"
   ],
   "id": "1a7d95e78bc96416",
   "outputs": [],
   "execution_count": 34
  },
  {
   "metadata": {
    "ExecuteTime": {
     "end_time": "2024-06-11T20:53:44.512684Z",
     "start_time": "2024-06-11T20:53:42.034514Z"
    }
   },
   "cell_type": "code",
   "source": [
    "crash_easy = select_random(\"slowroads dataset/crash easy\", 160)\n",
    "crash_med = select_random(\"slowroads dataset/crash med\", 160)\n",
    "crash_hard = select_random(\"slowroads dataset/crash hard\", 180)"
   ],
   "id": "df33e93cfc303f25",
   "outputs": [],
   "execution_count": 35
  },
  {
   "metadata": {
    "ExecuteTime": {
     "end_time": "2024-06-11T21:16:44.389882Z",
     "start_time": "2024-06-11T21:16:44.300679Z"
    }
   },
   "cell_type": "code",
   "source": [
    "train_drive = drive_easy + drive_med + drive_hard\n",
    "train_crash = crash_easy + crash_med + crash_hard\n",
    "\n",
    "train_images = train_drive + train_crash\n",
    "train_labels = [0]*len(train_drive) + [1]*len(train_crash)"
   ],
   "id": "56359a85fcab59c6",
   "outputs": [],
   "execution_count": 36
  },
  {
   "metadata": {
    "ExecuteTime": {
     "end_time": "2024-06-11T21:21:54.286873Z",
     "start_time": "2024-06-11T21:19:30.164159Z"
    }
   },
   "cell_type": "code",
   "source": [
    "train_indices = np.arange(len(train_images))\n",
    "\n",
    "np.random.shuffle(train_indices)\n",
    "\n",
    "train_ds = tf.data.Dataset.from_tensor_slices((\n",
    "    [train_images[i] for i in train_indices],\n",
    "    [train_labels[i] for i in train_indices]\n",
    "))"
   ],
   "id": "1e47f52b3dd5d8eb",
   "outputs": [],
   "execution_count": 37
  },
  {
   "metadata": {
    "ExecuteTime": {
     "end_time": "2024-06-11T21:31:16.633737Z",
     "start_time": "2024-06-11T21:30:19.995189Z"
    }
   },
   "cell_type": "code",
   "source": "train_ds.save(\"data/train\")",
   "id": "8705f6d4850ce084",
   "outputs": [],
   "execution_count": 39
  },
  {
   "metadata": {},
   "cell_type": "markdown",
   "source": [
    "## Validation Dataset\n",
    "- 400 samples\n",
    "    - 200 driving\n",
    "    - 200 crashing\n",
    "- Seed: validation"
   ],
   "id": "73e565fa2e456753"
  },
  {
   "metadata": {
    "ExecuteTime": {
     "end_time": "2024-06-11T21:53:07.977370Z",
     "start_time": "2024-06-11T21:53:06.136604Z"
    }
   },
   "cell_type": "code",
   "source": [
    "val_drive = select_random(\"slowroads dataset/drive val\", 200)\n",
    "val_crash = select_random(\"slowroads dataset/crash val\", 200)\n",
    "\n",
    "val_images = val_drive + val_crash\n",
    "val_labels = [0]*len(val_drive) + [1]*len(val_crash)"
   ],
   "id": "72dbbf0d3ed7cef6",
   "outputs": [],
   "execution_count": 40
  },
  {
   "metadata": {
    "ExecuteTime": {
     "end_time": "2024-06-11T21:55:14.592412Z",
     "start_time": "2024-06-11T21:54:04.776229Z"
    }
   },
   "cell_type": "code",
   "source": [
    "val_indices = np.arange(len(val_images))\n",
    "\n",
    "np.random.shuffle(val_indices)\n",
    "\n",
    "val_ds = tf.data.Dataset.from_tensor_slices((\n",
    "    [val_images[i] for i in val_indices],\n",
    "    [val_labels[i] for i in val_indices]\n",
    "))"
   ],
   "id": "97b6b78d7ec378c9",
   "outputs": [],
   "execution_count": 41
  },
  {
   "metadata": {
    "ExecuteTime": {
     "end_time": "2024-06-11T21:55:35.741693Z",
     "start_time": "2024-06-11T21:55:14.627987Z"
    }
   },
   "cell_type": "code",
   "source": "val_ds.save(\"data/val\")",
   "id": "b97e35c5bab03666",
   "outputs": [],
   "execution_count": 42
  },
  {
   "metadata": {},
   "cell_type": "markdown",
   "source": [
    "## Test Datasets\n",
    "- 96 samples each\n",
    "    - 48 driving\n",
    "    - 48 crashing\n",
    "- Seeds: validation, testset"
   ],
   "id": "8b13c0a90268221f"
  },
  {
   "metadata": {
    "ExecuteTime": {
     "end_time": "2024-06-15T22:16:50.877954Z",
     "start_time": "2024-06-15T22:16:50.874011Z"
    }
   },
   "cell_type": "code",
   "source": "set_names = [\"easy\", \"hard\", \"metal guard\", \"wood fence\"]",
   "id": "963d8cd1e1f67add",
   "outputs": [],
   "execution_count": 3
  },
  {
   "metadata": {
    "ExecuteTime": {
     "end_time": "2024-06-16T22:49:14.902022Z",
     "start_time": "2024-06-16T22:48:30.660599Z"
    }
   },
   "cell_type": "code",
   "source": [
    "for set_name in set_names:\n",
    "    indices = np.arange(96)\n",
    "    image_paths = []\n",
    "    labels = []\n",
    "    \n",
    "    for cls in [\"crash\", \"drive\"]:\n",
    "        image_names = os.listdir(f\"test set/{cls} {set_name}\")\n",
    "        \n",
    "        assert len(image_names) == 48\n",
    "        \n",
    "        image_paths += [f\"test set/{cls} {set_name}/{image_name}\" for image_name in image_names]\n",
    "        \n",
    "        label = int(cls == \"crash\")\n",
    "        labels += [label]*48\n",
    "    \n",
    "    np.random.shuffle(indices)\n",
    "    \n",
    "    ds = tf.data.Dataset.from_tensor_slices((\n",
    "        [np.array(Image.open(image_paths[i]))/255 for i in indices],\n",
    "        [labels[i] for i in indices]\n",
    "    ))\n",
    "    \n",
    "    ds.save(f\"test set/{set_name}\")\n",
    "    \n",
    "    print(f\"Finished {set_name}\")"
   ],
   "id": "1fec0fe94335ed6c",
   "outputs": [
    {
     "name": "stdout",
     "output_type": "stream",
     "text": [
      "Finished easy\n",
      "Finished hard\n",
      "Finished metal guard\n",
      "Finished wood fence\n"
     ]
    }
   ],
   "execution_count": 30
  }
 ],
 "metadata": {
  "kernelspec": {
   "display_name": "Python 3",
   "language": "python",
   "name": "python3"
  },
  "language_info": {
   "codemirror_mode": {
    "name": "ipython",
    "version": 2
   },
   "file_extension": ".py",
   "mimetype": "text/x-python",
   "name": "python",
   "nbconvert_exporter": "python",
   "pygments_lexer": "ipython2",
   "version": "2.7.6"
  }
 },
 "nbformat": 4,
 "nbformat_minor": 5
}
